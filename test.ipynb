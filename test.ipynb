{
 "cells": [
  {
   "cell_type": "code",
   "execution_count": 1,
   "metadata": {},
   "outputs": [],
   "source": [
    "import cv2\n",
    "import os\n",
    "from glob import glob"
   ]
  },
  {
   "cell_type": "code",
   "execution_count": 5,
   "metadata": {},
   "outputs": [],
   "source": [
    "for dir in glob('./test/*.png'):\n",
    "    img = cv2.imread(dir)\n",
    "    \n",
    "    img = cv2.resize(img, dsize=(img.shape[1]//2, img.shape[0]//2),interpolation=cv2.INTER_CUBIC)\n",
    "    cv2.imwrite(dir[:-4] + \"_2.png\", img=img)"
   ]
  },
  {
   "cell_type": "code",
   "execution_count": 6,
   "metadata": {},
   "outputs": [],
   "source": [
    "for dir in glob('./test/*.png'):\n",
    "    img = cv2.imread(dir)\n",
    "    \n",
    "    img = cv2.resize(img, dsize=(img.shape[1]//4, img.shape[0]//4),interpolation=cv2.INTER_CUBIC)\n",
    "    cv2.imwrite(dir[:-4] + \"_4.png\", img=img)"
   ]
  },
  {
   "cell_type": "code",
   "execution_count": null,
   "metadata": {},
   "outputs": [],
   "source": [
    "filepath = './video/videoplayback (3).mp4'\n",
    "video = cv2.VideoCapture(filepath) #'' 사이에 사용할 비디오 파일의 경로 및 이름을 넣어주도록 함\n",
    "\n",
    "if not video.isOpened():\n",
    "    print(\"Could not Open :\", filepath)\n",
    "    exit(0)\n",
    "#불러온 비디오 파일의 정보 출력\n",
    "length = int(video.get(cv2.CAP_PROP_FRAME_COUNT))\n",
    "width = int(video.get(cv2.CAP_PROP_FRAME_WIDTH))\n",
    "height = int(video.get(cv2.CAP_PROP_FRAME_HEIGHT))\n",
    "fps = video.get(cv2.CAP_PROP_FPS)\n",
    "\n",
    "print(\"length :\", length)\n",
    "print(\"width :\", width)\n",
    "print(\"height :\", height)\n",
    "print(\"fps :\", fps)"
   ]
  },
  {
   "cell_type": "code",
   "execution_count": null,
   "metadata": {},
   "outputs": [],
   "source": [
    "cv2.imread()"
   ]
  }
 ],
 "metadata": {
  "kernelspec": {
   "display_name": "base",
   "language": "python",
   "name": "python3"
  },
  "language_info": {
   "codemirror_mode": {
    "name": "ipython",
    "version": 3
   },
   "file_extension": ".py",
   "mimetype": "text/x-python",
   "name": "python",
   "nbconvert_exporter": "python",
   "pygments_lexer": "ipython3",
   "version": "3.9.13"
  },
  "orig_nbformat": 4
 },
 "nbformat": 4,
 "nbformat_minor": 2
}
