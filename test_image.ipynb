{
 "cells": [
  {
   "cell_type": "code",
   "execution_count": 18,
   "metadata": {},
   "outputs": [],
   "source": [
    "import cv2\n",
    "import os\n",
    "from glob import glob"
   ]
  },
  {
   "cell_type": "code",
   "execution_count": 19,
   "metadata": {},
   "outputs": [],
   "source": [
    "CFG = {\"VIDEO_DIR\": './video/',\n",
    "       \"SAVE_DIR\": './video/'}"
   ]
  },
  {
   "cell_type": "code",
   "execution_count": 20,
   "metadata": {},
   "outputs": [],
   "source": [
    "def vid2img(filepath):\n",
    "    video = cv2.VideoCapture(filepath) #'' 사이에 사용할 비디오 파일의 경로 및 이름을 넣어주도록 함\n",
    "\n",
    "    if not video.isOpened():\n",
    "        print(\"Could not Open :\", filepath)\n",
    "        exit(0)\n",
    "\n",
    "    #불러온 비디오 파일의 정보 출력\n",
    "    length = int(video.get(cv2.CAP_PROP_FRAME_COUNT))\n",
    "    width = int(video.get(cv2.CAP_PROP_FRAME_WIDTH))\n",
    "    height = int(video.get(cv2.CAP_PROP_FRAME_HEIGHT))\n",
    "    fps = video.get(cv2.CAP_PROP_FPS)\n",
    "\n",
    "    print(\"length :\", length)\n",
    "    print(\"width :\", width)\n",
    "    print(\"height :\", height)\n",
    "    print(\"fps :\", fps)\n",
    "\n",
    "    count=0\n",
    "    if not os.path.isdir(filepath[:-4]):\n",
    "        os.mkdir(filepath[:-4])\n",
    "\n",
    "    while True:\n",
    "        ret, image = video.read()\n",
    "        if not ret:\n",
    "            break\n",
    "        cv2.imwrite(filepath[:-4] + \"/frame%s.png\" % str(count).zfill(8), image)\n",
    "        count += 1\n",
    "    video.release()"
   ]
  },
  {
   "cell_type": "code",
   "execution_count": 21,
   "metadata": {},
   "outputs": [
    {
     "name": "stdout",
     "output_type": "stream",
     "text": [
      "length : 751\n",
      "width : 640\n",
      "height : 360\n",
      "fps : 29.97002997002997\n",
      "length : 408\n",
      "width : 640\n",
      "height : 360\n",
      "fps : 23.976023976023978\n"
     ]
    }
   ],
   "source": [
    "for dir in glob(CFG['VIDEO_DIR'] + \"/*.mp4\"):\n",
    "    vid2img(dir)"
   ]
  }
 ],
 "metadata": {
  "kernelspec": {
   "display_name": "base",
   "language": "python",
   "name": "python3"
  },
  "language_info": {
   "codemirror_mode": {
    "name": "ipython",
    "version": 3
   },
   "file_extension": ".py",
   "mimetype": "text/x-python",
   "name": "python",
   "nbconvert_exporter": "python",
   "pygments_lexer": "ipython3",
   "version": "3.9.13"
  },
  "orig_nbformat": 4
 },
 "nbformat": 4,
 "nbformat_minor": 2
}
